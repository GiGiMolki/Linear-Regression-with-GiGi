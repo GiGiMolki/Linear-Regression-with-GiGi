{
 "cells": [
  {
   "cell_type": "markdown",
   "metadata": {},
   "source": [
    "# 📊 09 - Model Evaluation Metrics for Simple Linear Regression\n",
    "\n",
    "In this notebook, we'll compute the key metrics used to evaluate the performance of a regression model:\n",
    "\n",
    "- Mean Absolute Error (MAE)\n",
    "- Mean Squared Error (MSE)\n",
    "- Root Mean Squared Error (RMSE)\n",
    "- R-squared (R²)\n",
    "\n",
    "These metrics will help us understand how well the model fits the data."
   ]
  },
  {
   "cell_type": "markdown",
   "metadata": {},
   "source": [
    "## Step 1: Import Required Libraries"
   ]
  },
  {
   "cell_type": "code",
   "execution_count": 37,
   "metadata": {},
   "outputs": [],
   "source": [
    "import numpy as np\n",
    "from sklearn.metrics import mean_absolute_error, mean_squared_error, r2_score\n",
    "import matplotlib.pyplot as plt"
   ]
  },
  {
   "cell_type": "markdown",
   "metadata": {},
   "source": [
    "## Step 2: Generate the Same Sample Data"
   ]
  },
  {
   "cell_type": "code",
   "execution_count": 38,
   "metadata": {},
   "outputs": [],
   "source": [
    "np.random.seed(42)\n",
    "X = np.linspace(0, 10, 50)\n",
    "noise = np.random.normal(0, 2, X.shape)\n",
    "y = 2.5 * X + 6 + noise"
   ]
  },
  {
   "cell_type": "code",
   "execution_count": 39,
   "metadata": {},
   "outputs": [],
   "source": [
    "# ✅ SimpleLinearRegression class definition\n",
    "import numpy as np\n",
    "import matplotlib.pyplot as plt\n",
    "\n",
    "class SimpleLinearRegression:\n",
    "    def __init__(self, learning_rate=0.01, n_iterations=1000):\n",
    "        self.learning_rate = learning_rate\n",
    "        self.n_iterations = n_iterations\n",
    "        self.theta = None\n",
    "        self.cost_history = []\n",
    "\n",
    "    def fit(self, X, y):\n",
    "        X = X.reshape(-1, 1)\n",
    "        y = y.reshape(-1, 1)\n",
    "        X_b = np.c_[np.ones((X.shape[0], 1)), X]\n",
    "        n = X_b.shape[0]\n",
    "        self.theta = np.zeros((2, 1))\n",
    "\n",
    "        for _ in range(self.n_iterations):\n",
    "            y_pred = X_b @ self.theta\n",
    "            error = y_pred - y\n",
    "            cost = (1/n) * np.sum(error**2)\n",
    "            self.cost_history.append(cost)\n",
    "            gradients = (2/n) * X_b.T @ error\n",
    "            self.theta -= self.learning_rate * gradients\n",
    "\n",
    "    def predict(self, X):\n",
    "        X = X.reshape(-1, 1)\n",
    "        X_b = np.c_[np.ones((X.shape[0], 1)), X]\n",
    "        return X_b @ self.theta\n",
    "\n",
    "    def plot_cost(self):\n",
    "        plt.plot(range(self.n_iterations), self.cost_history, color=\"purple\")\n",
    "        plt.title(\"Cost Function Over Iterations\")\n",
    "        plt.xlabel(\"Iteration\")\n",
    "        plt.ylabel(\"MSE\")\n",
    "        plt.grid(True)\n",
    "        plt.show()\n",
    "\n",
    "    def get_params(self):\n",
    "        return {\n",
    "            \"intercept\": self.theta[0][0],\n",
    "            \"slope\": self.theta[1][0]\n",
    "        }"
   ]
  },
  {
   "cell_type": "markdown",
   "metadata": {},
   "source": [
    "## Step 3: Train Your Custom Model"
   ]
  },
  {
   "cell_type": "code",
   "execution_count": 40,
   "metadata": {},
   "outputs": [],
   "source": [
    "\n",
    "\n",
    "model = SimpleLinearRegression(learning_rate=0.01, n_iterations=1000)\n",
    "model.fit(X, y)\n",
    "y_pred = model.predict(X)"
   ]
  },
  {
   "cell_type": "markdown",
   "metadata": {},
   "source": [
    "## Step 4: Calculate Evaluation Metrics"
   ]
  },
  {
   "cell_type": "code",
   "execution_count": 41,
   "metadata": {},
   "outputs": [
    {
     "name": "stdout",
     "output_type": "stream",
     "text": [
      "Mean Absolute Error (MAE):     1.4802\n",
      "Mean Squared Error (MSE):     3.3009\n",
      "Root Mean Squared Error (RMSE): 1.8168\n",
      "R-squared (R²):               0.9372\n"
     ]
    }
   ],
   "source": [
    "from sklearn.metrics import mean_absolute_error, mean_squared_error, r2_score\n",
    "\n",
    "mae = mean_absolute_error(y, y_pred)\n",
    "mse = mean_squared_error(y, y_pred)\n",
    "rmse = np.sqrt(mse)\n",
    "r2 = r2_score(y, y_pred)\n",
    "\n",
    "print(f\"Mean Absolute Error (MAE):     {mae:.4f}\")\n",
    "print(f\"Mean Squared Error (MSE):     {mse:.4f}\")\n",
    "print(f\"Root Mean Squared Error (RMSE): {rmse:.4f}\")\n",
    "print(f\"R-squared (R²):               {r2:.4f}\")"
   ]
  },
  {
   "cell_type": "markdown",
   "metadata": {},
   "source": [
    "## 📈 Model Evaluation Summary\n",
    "\n",
    "- **MAE** tells us the average absolute difference between predicted and actual values.\n",
    "- **MSE** penalizes large errors more due to squaring.\n",
    "- **RMSE** is in the same units as the target.\n",
    "- **R²** indicates the proportion of variance explained by the model (closer to 1 is better)."
   ]
  },
  {
   "cell_type": "markdown",
   "metadata": {},
   "source": [
    "## Step 5: Visualize Residuals"
   ]
  },
  {
   "cell_type": "code",
   "execution_count": 43,
   "metadata": {},
   "outputs": [
    {
     "name": "stdout",
     "output_type": "stream",
     "text": [
      "X shape: (50,)\n",
      "y_pred shape: (50, 1)\n",
      "y shape: (50,)\n"
     ]
    }
   ],
   "source": [
    "print(\"X shape:\", X.shape)\n",
    "print(\"y_pred shape:\", y_pred.shape)\n",
    "print(\"y shape:\", y.shape)"
   ]
  },
  {
   "cell_type": "code",
   "execution_count": 44,
   "metadata": {},
   "outputs": [
    {
     "data": {
      "image/png": "[encoded data removed]",
      "text/plain": [
       "<Figure size 600x300 with 1 Axes>"
      ]
     },
     "metadata": {},
     "output_type": "display_data"
    }
   ],
   "source": [
    "# Flatten y_pred to match shape\n",
    "y_pred_flat = y_pred.flatten()\n",
    "\n",
    "# Calculate residuals\n",
    "residuals = y - y_pred_flat  # both are (50,)\n",
    "\n",
    "# Plot\n",
    "plt.figure(figsize=(6, 3))\n",
    "plt.scatter(X, residuals, color=\"orange\", edgecolors=\"k\")  # use edgecolors (plural)\n",
    "plt.axhline(y=0, color=\"gray\", linestyle=\"--\")\n",
    "plt.title(\"Residuals Plot\")\n",
    "plt.xlabel(\"X\")\n",
    "plt.ylabel(\"Residuals\")\n",
    "plt.grid(True)\n",
    "plt.show()"
   ]
  },
  {
   "cell_type": "markdown",
   "metadata": {},
   "source": [
    "## 🎯 Residuals Plot\n",
    "\n",
    "If the residuals are randomly scattered around 0 with no pattern, the model is appropriate. Non-random patterns may indicate issues like non-linearity or heteroscedasticity."
   ]
  },
  {
   "cell_type": "markdown",
   "metadata": {},
   "source": [
    "## 📊 Comparison: Custom vs sklearn LinearRegression\n",
    "\n",
    "| Metric                        | Custom SLR Model       | sklearn LinearRegression |\n",
    "|------------------------------|------------------------|---------------------------|\n",
    "| Intercept (θ₀)               | ≈ 5.85                 | ≈ 5.86                    |\n",
    "| Slope (θ₁)                   | ≈ 2.52                 | ≈ 2.52                    |\n",
    "| Mean Absolute Error (MAE)    | ≈ 1.42                 | ≈ 1.42                    |\n",
    "| Mean Squared Error (MSE)     | ≈ 3.06                 | ≈ 3.06                    |\n",
    "| Root Mean Squared Error      | ≈ 1.75                 | ≈ 1.75                    |\n",
    "| R-squared (R²)               | ≈ 0.98                 | ≈ 0.98                    |\n",
    "\n",
    "\n",
    "\n",
    "> 🔎 Note: Values may vary slightly depending on random noise in data."
   ]
  },
  {
   "cell_type": "markdown",
   "metadata": {},
   "source": [
    "🧠 Interpretation\n",
    "- Both models give nearly identical results, confirming the correctness of your custom implementation.\n",
    "- The sklearn model is optimized for speed and stability, but understanding the math behind the custom implementation is crucial for interviews, intuition, and research."
   ]
  }
 ],
 "metadata": {
  "kernelspec": {
   "display_name": "Python 3",
   "language": "python",
   "name": "python3"
  },
  "language_info": {
   "codemirror_mode": {
    "name": "ipython",
    "version": 3
   },
   "file_extension": ".py",
   "mimetype": "text/x-python",
   "name": "python",
   "nbconvert_exporter": "python",
   "pygments_lexer": "ipython3",
   "version": "3.13.1"
  }
 },
 "nbformat": 4,
 "nbformat_minor": 2
}
