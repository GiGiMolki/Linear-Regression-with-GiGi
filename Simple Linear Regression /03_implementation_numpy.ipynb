{
 "cells": [
  {
   "cell_type": "markdown",
   "metadata": {},
   "source": [
    "# 03 — Simple Linear Regression from Scratch (NumPy Only)\n",
    "\n",
    "In this notebook, we will:\n",
    "- Derive the formula for the optimal line\n",
    "- Implement the least squares method manually using NumPy\n",
    "- Visualize the result and calculate performance metrics"
   ]
  },
  {
   "cell_type": "markdown",
   "metadata": {},
   "source": [
    "## Step 1: Import Libraries\n",
    "\n",
    "We use:\n",
    "- NumPy for linear algebra operations\n",
    "- Matplotlib and Seaborn for visualization"
   ]
  },
  {
   "cell_type": "code",
   "execution_count": 2,
   "metadata": {},
   "outputs": [],
   "source": [
    "# ✅ Step 1: Import Libraries\n",
    "import numpy as np\n",
    "import matplotlib.pyplot as plt\n",
    "import seaborn as sns\n",
    "\n",
    "sns.set(style=\"whitegrid\")\n",
    "plt.rcParams[\"figure.figsize\"] = (6, 3)"
   ]
  },
  {
   "cell_type": "markdown",
   "metadata": {},
   "source": [
    "## Step 2: Create Synthetic Data\n",
    "\n",
    "We simulate a true linear relationship `y = 3x + 4` with added Gaussian noise."
   ]
  },
  {
   "cell_type": "code",
   "execution_count": 3,
   "metadata": {},
   "outputs": [],
   "source": [
    "# ✅ Step 2: Generate Synthetic Data\n",
    "np.random.seed(42)\n",
    "X = np.linspace(0, 10, 50)\n",
    "noise = np.random.normal(0, 2, X.shape)\n",
    "y = 3 * X + 4 + noise"
   ]
  },
  {
   "cell_type": "markdown",
   "metadata": {},
   "source": [
    "## Step 3: Reshape Data\n",
    "\n",
    "We reshape `X` and `y` to column vectors to match matrix multiplication rules."
   ]
  },
  {
   "cell_type": "code",
   "execution_count": 4,
   "metadata": {},
   "outputs": [],
   "source": [
    "# ✅ Step 3: Reshape X for matrix operations\n",
    "X = X.reshape(-1, 1)\n",
    "y = y.reshape(-1, 1)"
   ]
  },
  {
   "cell_type": "markdown",
   "metadata": {},
   "source": [
    "## Step 4: Add Bias Term\n",
    "\n",
    "To compute `y = θ₀ + θ₁x`, we include a column of 1s to represent the intercept θ₀.\n",
    "Now the equation becomes:\n",
    "\n",
    "\\[\n",
    "\\hat{y} = X_b \\cdot \\theta\n",
    "\\]"
   ]
  },
  {
   "cell_type": "code",
   "execution_count": 5,
   "metadata": {},
   "outputs": [],
   "source": [
    "# ✅ Step 4: Add Bias Term (Intercept)\n",
    "X_b = np.hstack([np.ones_like(X), X])  # Add column of 1s for intercept term"
   ]
  },
  {
   "cell_type": "markdown",
   "metadata": {},
   "source": [
    "## Step 5: Compute Parameters (θ₀, θ₁)\n",
    "\n",
    "We use the **Normal Equation**:\n",
    "\n",
    "\\[\n",
    "\\theta = (X^T X)^{-1} X^T y\n",
    "\\]\n",
    "\n",
    "This gives us the best-fit parameters without iterative training."
   ]
  },
  {
   "cell_type": "code",
   "execution_count": 6,
   "metadata": {},
   "outputs": [
    {
     "data": {
      "text/plain": [
       "array([[4.12888618],\n",
       "       [2.8840332 ]])"
      ]
     },
     "execution_count": 6,
     "metadata": {},
     "output_type": "execute_result"
    }
   ],
   "source": [
    "# ✅ Step 5: Calculate Optimal Parameters Using Normal Equation\n",
    "theta_best = np.linalg.inv(X_b.T.dot(X_b)).dot(X_b.T).dot(y)\n",
    "theta_best"
   ]
  },
  {
   "cell_type": "markdown",
   "metadata": {},
   "source": [
    "## Step 6: Make Predictions\n",
    "\n",
    "Using the learned θ values, we calculate predicted `y` values for each input."
   ]
  },
  {
   "cell_type": "code",
   "execution_count": 7,
   "metadata": {},
   "outputs": [],
   "source": [
    "# ✅ Step 6: Make Predictions\n",
    "y_pred = X_b.dot(theta_best)"
   ]
  },
  {
   "cell_type": "markdown",
   "metadata": {},
   "source": [
    "## Step 7: Visualize Best Fit Line\n",
    "\n",
    "We now overlay the regression line calculated using the **Normal Equation** on top of the data to visualize the fit."
   ]
  },
  {
   "cell_type": "code",
   "execution_count": 8,
   "metadata": {},
   "outputs": [
    {
     "data": {
      "image/png": "[encoded data removed]",
      "text/plain": [
       "<Figure size 600x300 with 1 Axes>"
      ]
     },
     "metadata": {},
     "output_type": "display_data"
    }
   ],
   "source": [
    "# ✅ Step 7: Visualize Fit\n",
    "plt.scatter(X, y, label='Actual Data')\n",
    "plt.plot(X, y_pred, color='red', label='Prediction (Best Fit Line)')\n",
    "plt.title(f\"Regression Line: y = {theta_best[1][0]:.2f}x + {theta_best[0][0]:.2f}\")\n",
    "plt.xlabel(\"X\")\n",
    "plt.ylabel(\"y\")\n",
    "plt.legend()\n",
    "plt.show()"
   ]
  },
  {
   "cell_type": "markdown",
   "metadata": {},
   "source": [
    "## Step 8: Calculate R² Score\n",
    "\n",
    "The R² score tells us how well our model explains the variance in the data:\n",
    "\n",
    "\\[\n",
    "R^2 = 1 - \\frac{\\text{SS}_{res}}{\\text{SS}_{total}}\n",
    "\\]\n",
    "\n",
    "A score close to **1.0** means excellent fit."
   ]
  },
  {
   "cell_type": "code",
   "execution_count": 9,
   "metadata": {},
   "outputs": [
    {
     "name": "stdout",
     "output_type": "stream",
     "text": [
      "R² Score: 0.9563\n"
     ]
    }
   ],
   "source": [
    "# ✅ Step 8: Evaluate Model (R² Score)\n",
    "ss_total = np.sum((y - np.mean(y))**2)\n",
    "ss_res = np.sum((y - y_pred)**2)\n",
    "r2_score = 1 - (ss_res / ss_total)\n",
    "print(f\"R² Score: {r2_score:.4f}\")"
   ]
  }
 ],
 "metadata": {
  "kernelspec": {
   "display_name": "Python 3",
   "language": "python",
   "name": "python3"
  },
  "language_info": {
   "codemirror_mode": {
    "name": "ipython",
    "version": 3
   },
   "file_extension": ".py",
   "mimetype": "text/x-python",
   "name": "python",
   "nbconvert_exporter": "python",
   "pygments_lexer": "ipython3",
   "version": "3.13.1"
  }
 },
 "nbformat": 4,
 "nbformat_minor": 2
}
