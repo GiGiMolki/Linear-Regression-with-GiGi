{
 "cells": [
  {
   "cell_type": "markdown",
   "metadata": {},
   "source": [
    "# 08 — Using Simple Linear Regression as a Python Class\n",
    "\n",
    "In this notebook, we:\n",
    "- Encapsulate all logic into a Python class\n",
    "- Implement `fit()` using vectorized gradient descent\n",
    "- Create a clean interface with `fit()` and `predict()`\n",
    "- Reuse this model like any real-world ML library"
   ]
  },
  {
   "cell_type": "markdown",
   "metadata": {},
   "source": [
    "## Step 1: Import Libraries\n",
    "\n",
    "We're using:\n",
    "- NumPy for computation\n",
    "- Matplotlib + Seaborn for plotting"
   ]
  },
  {
   "cell_type": "code",
   "execution_count": 12,
   "metadata": {},
   "outputs": [],
   "source": [
    "# ✅ Step 1: Imports\n",
    "import numpy as np\n",
    "import matplotlib.pyplot as plt\n",
    "import seaborn as sns\n",
    "\n",
    "sns.set(style=\"whitegrid\")\n",
    "plt.rcParams[\"figure.figsize\"] = (6, 3)"
   ]
  },
  {
   "cell_type": "markdown",
   "metadata": {},
   "source": [
    "## Step 2: Define `SimpleLinearRegression` Class\n",
    "\n",
    "This class includes:\n",
    "- `__init__` → Initialize hyperparameters\n",
    "- `fit` → Gradient descent (vectorized)\n",
    "- `predict` → Makes predictions\n",
    "- `plot_cost` → Shows learning curve\n",
    "- `get_params()` — to retrieve slope and intercept from `theta`"
   ]
  },
  {
   "cell_type": "code",
   "execution_count": 13,
   "metadata": {},
   "outputs": [],
   "source": [
    "# ✅ Step 2: Define the Class\n",
    "class SimpleLinearRegression:\n",
    "    def __init__(self, learning_rate=0.01, n_iterations=1000):\n",
    "        self.learning_rate = learning_rate\n",
    "        self.n_iterations = n_iterations\n",
    "        self.theta = None\n",
    "        self.cost_history = []\n",
    "\n",
    "    def fit(self, X, y):\n",
    "        X = X.reshape(-1, 1)\n",
    "        y = y.reshape(-1, 1)\n",
    "        X_b = np.c_[np.ones((X.shape[0], 1)), X]\n",
    "\n",
    "        n = X_b.shape[0]\n",
    "        self.theta = np.zeros((2, 1))\n",
    "\n",
    "        for _ in range(self.n_iterations):\n",
    "            y_pred = X_b @ self.theta\n",
    "            error = y_pred - y\n",
    "            cost = (1/n) * np.sum(error**2)\n",
    "            self.cost_history.append(cost)\n",
    "\n",
    "            gradients = (2/n) * X_b.T @ error\n",
    "            self.theta -= self.learning_rate * gradients\n",
    "\n",
    "    def predict(self, X):\n",
    "        X = X.reshape(-1, 1)\n",
    "        X_b = np.c_[np.ones((X.shape[0], 1)), X]\n",
    "        return X_b @ self.theta\n",
    "\n",
    "    def get_params(self):\n",
    "        if self.theta is not None:\n",
    "            intercept = self.theta[0][0]\n",
    "            slope = self.theta[1][0]\n",
    "            return {'intercept': intercept, 'slope': slope}\n",
    "        else:\n",
    "            raise ValueError(\"Model is not trained yet. Fit the model first.\")\n",
    "\n",
    "    def plot_cost(self):\n",
    "        plt.plot(range(self.n_iterations), self.cost_history, color=\"purple\")\n",
    "        plt.title(\"Cost Function Over Iterations\")\n",
    "        plt.xlabel(\"Iteration\")\n",
    "        plt.ylabel(\"MSE\")\n",
    "        plt.show()"
   ]
  },
  {
   "cell_type": "markdown",
   "metadata": {},
   "source": [
    "## Step 3: Generate Sample Data\n",
    "\n",
    "We simulate a linear relationship:\n",
    "\n",
    "\n",
    "y = 2.5x + 6 + noise\n",
    "\n",
    "We manually created the sample data using a known slope and intercept (slope = 2.5, intercept = 6) before training the model.\n",
    "\n",
    "\n"
   ]
  },
  {
   "cell_type": "code",
   "execution_count": 14,
   "metadata": {},
   "outputs": [],
   "source": [
    "# ✅ Step 3: Generate Sample Data\n",
    "np.random.seed(42)\n",
    "X = np.linspace(0, 10, 50)\n",
    "noise = np.random.normal(0, 2, X.shape)\n",
    "y = 2.5 * X + 6 + noise"
   ]
  },
  {
   "cell_type": "markdown",
   "metadata": {},
   "source": [
    "## Step 4: Fit the Model\n",
    "\n",
    "We train the custom linear regression model using gradient descent."
   ]
  },
  {
   "cell_type": "code",
   "execution_count": 15,
   "metadata": {},
   "outputs": [],
   "source": [
    "# ✅ Step 4: Train the Model\n",
    "model = SimpleLinearRegression(learning_rate=0.01, n_iterations=1000)\n",
    "model.fit(X, y)"
   ]
  },
  {
   "cell_type": "markdown",
   "metadata": {},
   "source": [
    "## Step 5: Predictions\n",
    "\n",
    "We use the trained model to predict `y` values."
   ]
  },
  {
   "cell_type": "code",
   "execution_count": 16,
   "metadata": {},
   "outputs": [],
   "source": [
    "# ✅ Step 5: Make Predictions\n",
    "y_pred = model.predict(X)"
   ]
  },
  {
   "cell_type": "markdown",
   "metadata": {},
   "source": [
    "## Step 6: Get Model Parameters\n",
    "\n",
    "The slope and intercept learned by the model are:\n",
    "- Intercept: `θ₀`\n",
    "- Slope: `θ₁`"
   ]
  },
  {
   "cell_type": "code",
   "execution_count": 17,
   "metadata": {},
   "outputs": [
    {
     "name": "stdout",
     "output_type": "stream",
     "text": [
      "Intercept: 6.0928\n",
      "Slope:     2.3894\n"
     ]
    }
   ],
   "source": [
    "# ✅ Step 6: Get Learned Parameters\n",
    "params = model.get_params()\n",
    "print(f\"Intercept: {params['intercept']:.4f}\")\n",
    "print(f\"Slope:     {params['slope']:.4f}\")"
   ]
  },
  {
   "cell_type": "markdown",
   "metadata": {},
   "source": [
    "## Step 7: Visualize Model Fit\n",
    "\n",
    "We compare actual data vs predictions using the learned regression line."
   ]
  },
  {
   "cell_type": "code",
   "execution_count": 23,
   "metadata": {},
   "outputs": [
    {
     "data": {
      "image/png": "[encoded data removed]",
      "text/plain": [
       "<Figure size 600x300 with 1 Axes>"
      ]
     },
     "metadata": {},
     "output_type": "display_data"
    },
    {
     "name": "stdout",
     "output_type": "stream",
     "text": [
      "{'intercept': np.float64(6.0927833866542604), 'slope': np.float64(2.389434336123587)}\n"
     ]
    }
   ],
   "source": [
    "# ✅ Step 7: Plot Results\n",
    "plt.scatter(X, y, label=\"Data\")\n",
    "plt.plot(X, y_pred, color=\"red\", label=\"Predicted Line\")\n",
    "plt.title(\"Simple Linear Regression (Python Class)\")\n",
    "plt.xlabel(\"X\")\n",
    "plt.ylabel(\"y\")\n",
    "plt.legend()\n",
    "plt.show()\n",
    "\n",
    "params = model.get_params()\n",
    "print(params)"
   ]
  },
  {
   "cell_type": "markdown",
   "metadata": {},
   "source": [
    "## Step 8: Cost Convergence\n",
    "\n",
    "This shows how the Mean Squared Error reduces over each iteration of gradient descent."
   ]
  },
  {
   "cell_type": "code",
   "execution_count": 19,
   "metadata": {},
   "outputs": [
    {
     "data": {
      "image/png": "[encoded data removed]",
      "text/plain": [
       "<Figure size 600x300 with 1 Axes>"
      ]
     },
     "metadata": {},
     "output_type": "display_data"
    }
   ],
   "source": [
    "# ✅ Step 8: Plot Cost Function\n",
    "model.plot_cost()"
   ]
  }
 ],
 "metadata": {
  "kernelspec": {
   "display_name": "Python 3",
   "language": "python",
   "name": "python3"
  },
  "language_info": {
   "codemirror_mode": {
    "name": "ipython",
    "version": 3
   },
   "file_extension": ".py",
   "mimetype": "text/x-python",
   "name": "python",
   "nbconvert_exporter": "python",
   "pygments_lexer": "ipython3",
   "version": "3.13.1"
  }
 },
 "nbformat": 4,
 "nbformat_minor": 2
}
